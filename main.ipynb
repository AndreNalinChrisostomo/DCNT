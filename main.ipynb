{
 "cells": [
  {
   "cell_type": "markdown",
   "metadata": {},
   "source": [
    "# Doenças Cronicas não Transmissiveis"
   ]
  },
  {
   "cell_type": "markdown",
   "metadata": {},
   "source": [
    "Este estudo visa analisar os dados de óbitos por doenças crônicas não transmissíveis entre 2013 até 2023"
   ]
  },
  {
   "cell_type": "markdown",
   "metadata": {},
   "source": [
    "Perguntas Chave\n",
    "1. Quais são as taxas de mortalidade por diferentes tipos de DCNTs (ex: diabetes, doenças cardíacas, câncer) em diferentes regiões?\n",
    "2. Existem padrões sazonais ou temporais nas taxas de mortalidade por DCNTs?\n",
    "3. Quais são os grupos demográficos (ex: idade, gênero, etnia) mais afetados por diferentes DCNTs?\n",
    "4. Como fatores socioeconômicos (ex: renda, nível de educação, acesso a cuidados de saúde) estão correlacionados com as taxas de mortalidade por DCNTs?\n",
    "5. Existem disparidades geográficas significativas nas taxas de mortalidade por DCNTs?\n",
    "6. Como as taxas de mortalidade por DCNTs mudaram ao longo do tempo?\n",
    "7. Quais são os principais fatores de risco associados às DCNTs, de acordo com os dados disponíveis?\n",
    "8. Há diferenças significativas nas taxas de mortalidade por DCNTs entre áreas urbanas e rurais?\n",
    "\n",
    "Objetivos da Pesquisa\n",
    "* Identificar Padrões: Descobrir padrões e tendências nas taxas de mortalidade por DCNTs, tanto ao longo do tempo quanto entre diferentes grupos demográficos e geográficos.\n",
    "* Informar Políticas de Saúde: Fornecer insights baseados em dados para ajudar na formulação de políticas de saúde pública que visem reduzir as taxas de mortalidade por DCNTs.\n",
    "* Melhorar a Alocação de Recursos: Identificar áreas e grupos demográficos que necessitam de mais recursos e atenção para reduzir as disparidades nas taxas de mortalidade.\n",
    "* Promover a Prevenção: Identificar fatores de risco e promover estratégias de prevenção para diminuir a incidência de DCNTs.\n",
    "* Avaliar Intervenções: Avaliar a eficácia de intervenções e programas de saúde existentes voltados para a prevenção e tratamento de DCNTs.\n",
    "* Aumentar a Conscientização: Informar e educar a população sobre os riscos e a prevenção das DCNTs com base em evidências empíricas.\n"
   ]
  },
  {
   "cell_type": "markdown",
   "metadata": {},
   "source": [
    "---"
   ]
  },
  {
   "cell_type": "code",
   "execution_count": null,
   "metadata": {},
   "outputs": [],
   "source": [
    "%pip install plotly"
   ]
  },
  {
   "cell_type": "markdown",
   "metadata": {},
   "source": [
    "## importando bibliotecas"
   ]
  },
  {
   "cell_type": "code",
   "execution_count": null,
   "metadata": {},
   "outputs": [],
   "source": [
    "import pandas as pd \n",
    "import numpy as np \n",
    "import matplotlib.pyplot as plt\n",
    "import seaborn as sns\n",
    "import os\n",
    "import plotly.express as px\n"
   ]
  },
  {
   "cell_type": "markdown",
   "metadata": {},
   "source": [
    "---\n",
    "## limpando os dados"
   ]
  },
  {
   "cell_type": "code",
   "execution_count": null,
   "metadata": {},
   "outputs": [],
   "source": [
    "datasets = {}\n",
    "\n",
    "# read every file in dados/\n",
    "for file in os.listdir('dados/'):\n",
    "    if file.endswith('.csv'):\n",
    "        datasets[file] = pd.read_csv('dados/' + file, delimiter=';')"
   ]
  },
  {
   "cell_type": "markdown",
   "metadata": {},
   "source": [
    "Já que temos muitas amostras e relativamente poucos valores nulos, podemos apenas removê-los, já que não farão muita falta nos dados"
   ]
  },
  {
   "cell_type": "code",
   "execution_count": null,
   "metadata": {},
   "outputs": [],
   "source": [
    "for name, df in datasets.items():\n",
    "    df.dropna(inplace=True)\n",
    "    "
   ]
  },
  {
   "cell_type": "code",
   "execution_count": null,
   "metadata": {},
   "outputs": [],
   "source": []
  },
  {
   "cell_type": "markdown",
   "metadata": {},
   "source": [
    "---\n",
    "## concatenando os datasets"
   ]
  },
  {
   "cell_type": "markdown",
   "metadata": {},
   "source": [
    "juntando todos os dados "
   ]
  },
  {
   "cell_type": "code",
   "execution_count": null,
   "metadata": {},
   "outputs": [],
   "source": [
    "#concatenate all datasets\n",
    "df = pd.concat(datasets.values())\n",
    "df.shape\n"
   ]
  },
  {
   "cell_type": "markdown",
   "metadata": {},
   "source": [
    "---\n",
    "## analisando valores"
   ]
  },
  {
   "cell_type": "code",
   "execution_count": null,
   "metadata": {},
   "outputs": [],
   "source": [
    "df.info()"
   ]
  },
  {
   "cell_type": "markdown",
   "metadata": {},
   "source": [
    "analisando valores unicos "
   ]
  },
  {
   "cell_type": "code",
   "execution_count": null,
   "metadata": {},
   "outputs": [],
   "source": [
    "df.co_cid_causa_basica.unique().shape"
   ]
  },
  {
   "cell_type": "code",
   "execution_count": null,
   "metadata": {},
   "outputs": [],
   "source": [
    "#remove rows where tp_raca_cor is \"Amarela\" or \"Indigena\"\n",
    "df = df[df.tp_raca_cor != 'Amarela']\n",
    "df = df[df.tp_raca_cor != 'Indígena']"
   ]
  },
  {
   "cell_type": "markdown",
   "metadata": {},
   "source": [
    "---\n",
    "## visão geral dos dados"
   ]
  },
  {
   "cell_type": "code",
   "execution_count": null,
   "metadata": {},
   "outputs": [],
   "source": [
    "df.loc[df['co_cid_causa_basica'] == 'E149']"
   ]
  },
  {
   "cell_type": "markdown",
   "metadata": {},
   "source": [
    "quantidade de obitos por etnia"
   ]
  },
  {
   "cell_type": "code",
   "execution_count": null,
   "metadata": {},
   "outputs": [],
   "source": [
    "# df.tp_raca_cor.value_counts().plot(kind='barh')\n",
    "#plotly plot pie chart\n",
    "fig = px.pie(df, names='tp_raca_cor', title='Raca/Cor')\n",
    "#fig size make it squared\n",
    "fig.update_layout(\n",
    "    autosize=False,\n",
    "    width=500,\n",
    "    height=500,\n",
    ")\n",
    "\n",
    "fig.show()\n",
    "\n"
   ]
  },
  {
   "cell_type": "markdown",
   "metadata": {},
   "source": [
    "distribuição da idade no óbito"
   ]
  },
  {
   "cell_type": "code",
   "execution_count": null,
   "metadata": {},
   "outputs": [],
   "source": [
    "# df.nu_idade.plot(kind='hist', bins=20)\n",
    "#plotly plot histogram\n",
    "fig = px.histogram(df, x='nu_idade', title='Idade')\n",
    "fig.update_layout(\n",
    "    autosize=False,\n",
    "    width=700,\n",
    "    height=500,\n",
    ")\n",
    "fig.show()\n"
   ]
  },
  {
   "cell_type": "markdown",
   "metadata": {},
   "source": [
    "homens vs mulheres"
   ]
  },
  {
   "cell_type": "code",
   "execution_count": null,
   "metadata": {},
   "outputs": [],
   "source": []
  },
  {
   "cell_type": "code",
   "execution_count": null,
   "metadata": {},
   "outputs": [],
   "source": [
    "#show percentages\n",
    "# plt.pie(df.sg_sexo.value_counts(), labels=['Masculino', 'Feminino'], autopct='%1.1f%%')\n",
    "#plotly plot pie chart\n",
    "fig = px.pie(df, names='sg_sexo', title='Sexo')\n",
    "fig.update_layout(\n",
    "    autosize=False,\n",
    "    width=500,\n",
    "    height=500,\n",
    ")\n",
    "fig.show()"
   ]
  },
  {
   "cell_type": "markdown",
   "metadata": {},
   "source": [
    "homens vs mulheres agrupados por raça"
   ]
  },
  {
   "cell_type": "code",
   "execution_count": null,
   "metadata": {},
   "outputs": [],
   "source": [
    "men_vs_woman_by_race = df.groupby(['tp_raca_cor', 'sg_sexo']).size().unstack()\n",
    "men_vs_woman_by_race.plot(kind='bar', stacked=False)\n",
    "\n",
    "#plotly plot bar chart\n"
   ]
  },
  {
   "cell_type": "markdown",
   "metadata": {},
   "source": [
    "---\n",
    "## análises centradas\n"
   ]
  },
  {
   "cell_type": "markdown",
   "metadata": {},
   "source": [
    "nesta seção faremos analises mais especificas focando mais nas causas do óbito e comparando raças e sexos "
   ]
  },
  {
   "cell_type": "markdown",
   "metadata": {},
   "source": [
    "Objetivos:\n",
    "- Visualizar a relação entre homens e mulheres de cada raça e analisar as causas de óbito mais comuns para cada classe \n",
    "- Rastrear essas relações ao longo do tempo, pegando esses dados a cada ano e colocando em um grafico temporal "
   ]
  },
  {
   "cell_type": "markdown",
   "metadata": {},
   "source": [
    "Verificando os códigos no nosso dataset"
   ]
  },
  {
   "cell_type": "code",
   "execution_count": null,
   "metadata": {},
   "outputs": [],
   "source": [
    "df.capitulo_cid_causa_basica.unique()"
   ]
  },
  {
   "cell_type": "code",
   "execution_count": null,
   "metadata": {},
   "outputs": [],
   "source": [
    "grouped_cid_raca = df.groupby(['capitulo_cid_causa_basica', 'tp_raca_cor']).size().unstack()\n",
    "grouped_cid_raca.plot(kind='barh', stacked=False)\n"
   ]
  },
  {
   "cell_type": "markdown",
   "metadata": {},
   "source": [
    "Analisando as mortes por cid ao longo dos anos"
   ]
  },
  {
   "cell_type": "code",
   "execution_count": null,
   "metadata": {},
   "outputs": [],
   "source": [
    "#organizar por ano de óbito \n",
    "df['dt_obito'] = pd.to_datetime(df['dt_obito'], dayfirst=True)\n",
    "df['year'] = df['dt_obito'].dt.year"
   ]
  },
  {
   "cell_type": "code",
   "execution_count": null,
   "metadata": {},
   "outputs": [],
   "source": [
    "#morte de homens por ano para cada cid e raça \n",
    "mortes_homens = df.groupby(['year', 'capitulo_cid_causa_basica', 'tp_raca_cor', 'sg_sexo']).size().reset_index(name='count')\n",
    "fig = px.line(\n",
    "    mortes_homens,\n",
    "    x='year',\n",
    "    y='count',\n",
    "    color='capitulo_cid_causa_basica',\n",
    "    facet_col='tp_raca_cor',\n",
    "    facet_row='sg_sexo',\n",
    "    markers=True\n",
    ")\n",
    "\n",
    "fig.update_layout(width=1200, height=600)\n",
    "fig.show()"
   ]
  }
 ],
 "metadata": {
  "kernelspec": {
   "display_name": "Python 3",
   "language": "python",
   "name": "python3"
  },
  "language_info": {
   "codemirror_mode": {
    "name": "ipython",
    "version": 3
   },
   "file_extension": ".py",
   "mimetype": "text/x-python",
   "name": "python",
   "nbconvert_exporter": "python",
   "pygments_lexer": "ipython3",
   "version": "3.11.9"
  }
 },
 "nbformat": 4,
 "nbformat_minor": 2
}
